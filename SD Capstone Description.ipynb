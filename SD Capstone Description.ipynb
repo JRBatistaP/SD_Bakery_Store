{
 "cells": [
  {
   "cell_type": "markdown",
   "metadata": {},
   "source": [
    "# Applied Data Science Capstone Project - Week One"
   ]
  },
  {
   "cell_type": "markdown",
   "metadata": {},
   "source": [
    "### Problem Description"
   ]
  },
  {
   "cell_type": "markdown",
   "metadata": {},
   "source": [
    "Josh is a recent college graduate who is looking for places in Santo Domingo, Dominican Republic to open a new bakery store. He already has the employees and resources necessary to open the business, but he needs to determine where exactly is the best place (neighborhood) to open it.\n",
    "\n",
    "In Santo Domingo, there are many bakery stores in every neighborhood, so it is necessary to choose the best place in order to maximize customer flow and profits. He knows the competition is rough, but also there are many bakery stores who open and stay in business successfully. Nevertheless, others don’t have the same fate and close in just months. Josh needs to be presented a model to determine where is the best place where he can find success."
   ]
  },
  {
   "cell_type": "markdown",
   "metadata": {},
   "source": [
    "### Data Description"
   ]
  },
  {
   "cell_type": "markdown",
   "metadata": {},
   "source": [
    "In this scenario the data we are going to use is:\n",
    "- A csv file with a list of all the neighborhoods in Santo Domingo. This file contains three columns: the postal code for each neighborhood, borough and the neighborhood name. This is going to be helpful because it's the base file which we are going to use to create the dataset and the model.\n",
    "- A csv file with the coordinates of each neighborhood. This file contains three columns: the postal code for each neighborhood, the latitude of each neighborhood and the longitude of each neighborhood. This is necessary because it contains the exact location of each neighborhood which is essential to determine where is the best place to open the bakery.\n",
    "- The Foursquare location data to create the model based con the coordinates. This will help us to obtain the venues in each location.\n"
   ]
  },
  {
   "cell_type": "code",
   "execution_count": null,
   "metadata": {},
   "outputs": [],
   "source": []
  }
 ],
 "metadata": {
  "kernelspec": {
   "display_name": "Python",
   "language": "python",
   "name": "conda-env-python-py"
  },
  "language_info": {
   "codemirror_mode": {
    "name": "ipython",
    "version": 3
   },
   "file_extension": ".py",
   "mimetype": "text/x-python",
   "name": "python",
   "nbconvert_exporter": "python",
   "pygments_lexer": "ipython3",
   "version": "3.6.10"
  }
 },
 "nbformat": 4,
 "nbformat_minor": 4
}
